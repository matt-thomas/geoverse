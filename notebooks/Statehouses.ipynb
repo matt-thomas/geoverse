{
 "cells": [
  {
   "cell_type": "code",
   "execution_count": 12,
   "metadata": {},
   "outputs": [],
   "source": [
    "# Add imports here.\n",
    "import geoplotlib as gp\n",
    "import os\n",
    "import pandas as pd\n",
    "import geocoder as gc\n",
    "import requests"
   ]
  },
  {
   "cell_type": "code",
   "execution_count": 13,
   "metadata": {},
   "outputs": [],
   "source": [
    "capitals = {\n",
    "    'Alabama': 'Montgomery',\n",
    "    'Alaska': 'Juneau',\n",
    "    'Arizona':'Phoenix',\n",
    "    'Arkansas':'Little Rock',\n",
    "    'California': 'Sacramento',\n",
    "    'Colorado':'Denver',\n",
    "    'Connecticut':'Hartford',\n",
    "    'Delaware':'Dover',\n",
    "    'Florida': 'Tallahassee',\n",
    "    'Georgia': 'Atlanta',\n",
    "    'Hawaii': 'Honolulu',\n",
    "    'Idaho': 'Boise',\n",
    "    'Illinois': 'Springfield',\n",
    "    'Indiana': 'Indianapolis',\n",
    "    'Iowa': 'Des Moines',\n",
    "    'Kansas': 'Topeka',\n",
    "    'Kentucky': 'Frankfort',\n",
    "    'Louisiana': 'Baton Rouge',\n",
    "    'Maine': 'Augusta',\n",
    "    'Maryland': 'Annapolis',\n",
    "    'Massachusetts': 'Boston',\n",
    "    'Michigan': 'Lansing',\n",
    "    'Minnesota': 'St. Paul',\n",
    "    'Mississippi': 'Jackson',\n",
    "    'Missouri': 'Jefferson City',\n",
    "    'Montana': 'Helena',\n",
    "    'Nebraska': 'Lincoln',\n",
    "    'Nevada': 'Carson City',\n",
    "    'New Hampshire': 'Concord',\n",
    "    'New Jersey': 'Trenton',\n",
    "    'New Mexico': 'Santa Fe',\n",
    "    'New York': 'Albany',\n",
    "    'North Carolina': 'Raleigh',\n",
    "    'North Dakota': 'Bismarck',\n",
    "    'Ohio': 'Columbus',\n",
    "    'Oklahoma': 'Oklahoma City',\n",
    "    'Oregon': 'Salem',\n",
    "    'Pennsylvania': 'Harrisburg',\n",
    "    'Rhode Island': 'Providence',\n",
    "    'South Carolina': 'Columbia',\n",
    "    'South Dakota': 'Pierre',\n",
    "    'Tennessee': 'Nashville',\n",
    "    'Texas': 'Austin',\n",
    "    'Utah': 'Salt Lake City',\n",
    "    'Vermont': 'Montpelier',\n",
    "    'Virginia': 'Richmond',\n",
    "    'Washington': 'Olympia',\n",
    "    'West Virginia': 'Charleston',\n",
    "    'Wisconsin': 'Madison',\n",
    "    'Wyoming': 'Cheyenne'  \n",
    "} # create a dictionary, key is the state and value is the capital"
   ]
  },
  {
   "cell_type": "code",
   "execution_count": 14,
   "metadata": {},
   "outputs": [
    {
     "name": "stderr",
     "output_type": "stream",
     "text": [
      "/Users/kuranes/workspace/geoverse/env/lib/python3.6/site-packages/ipykernel_launcher.py:15: UserWarning:\n",
      "\n",
      "Problem with dataverse file pull.\n",
      "\n"
     ]
    }
   ],
   "source": [
    "# Load replication data using IQSS dataverse client.\n",
    "from dataverse import Connection\n",
    "\n",
    "host = 'dataverse.unc.edu'                  # All clients >4.0 are supported\n",
    "token = '6d9aeda0-b118-4395-98e6-008646674b18'  # Generated at /account/apitoken\n",
    "\n",
    "# Grab data for https://dataverse.unc.edu/dataset.xhtml?persistentId=doi:10.15139/S3/3EAPI2\n",
    "try:\n",
    "    connection = Connection(host, token)\n",
    "    dataverse = connection.get_dataverse('UNC')\n",
    "    dataset = dataverse.get_dataset_by_doi('DOI:10.15139/S3/3EAPI2')\n",
    "    files = dataset.get_files('latest')\n",
    "except:\n",
    "    import warnings\n",
    "    warnings.warn('Problem with dataverse file pull.')"
   ]
  },
  {
   "cell_type": "code",
   "execution_count": 15,
   "metadata": {},
   "outputs": [],
   "source": [
    "# Check that geocoded csv doesn't already exist.\n",
    "try:\n",
    "    filtered = read_csv('filtered.tsv', sep='\\t')\n",
    "except:\n",
    "    # Load replication data from file.\n",
    "    df = pd.read_csv('Statehouses.tab.tsv', sep='\\t')\n",
    "\n",
    "    # Create a new dataframe with the columns we care about.\n",
    "    filtered = df[['abbr', 'state', 'year', 'lobbyists']].copy()\n",
    "\n",
    "    # Fill NaN as 0.aeau\n",
    "    filtered.fillna(0, inplace=True)\n",
    "\n",
    "    # Aggregate yearly data.\n",
    "    # @See https://www.shanelynn.ie/summarising-aggregation-and-grouping-data-in-python-pandas/\n",
    "    filtered = filtered.groupby(['abbr', 'state'])[['lobbyists']].sum().reset_index()"
   ]
  },
  {
   "cell_type": "code",
   "execution_count": 16,
   "metadata": {
    "scrolled": true
   },
   "outputs": [],
   "source": [
    "# Load our geocoder.\n",
    "from geopy import geocoders  \n",
    "gn = geocoders.GeoNames(username='kuranes')\n",
    "\n",
    "# Populate coordinate data.\n",
    "for index, row in filtered.iterrows():\n",
    "    # Get state capital.\n",
    "    try:\n",
    "        capital = capitals[row['state']]\n",
    "        g = gn.geocode(capital + ', ' + row['state'])\n",
    "        filtered.loc[index, 'lat'] = g.latitude\n",
    "        filtered.loc[index, 'lon'] = g.longitude\n",
    "    except:\n",
    "        import warnings\n",
    "        warnings.warn(\"no code found for \" + capital + ', ' + row['state'])\n",
    "\n",
    "# Save geocoded data to csv.\n",
    "filtered.to_csv('filtered.tsv', sep='\\t', encoding='utf-8')"
   ]
  },
  {
   "cell_type": "code",
   "execution_count": 17,
   "metadata": {},
   "outputs": [
    {
     "data": {
      "text/plain": [
       "'file:///Users/kuranes/workspace/geoverse/notebooks/lobbyists-cloropleth-map.html'"
      ]
     },
     "execution_count": 17,
     "metadata": {},
     "output_type": "execute_result"
    }
   ],
   "source": [
    "# Generate Choropleth using plotly.\n",
    "# @See https://plot.ly/python/choropleth-maps/#united-states-choropleth-map\n",
    "import plotly.plotly as py\n",
    "import plotly\n",
    "\n",
    "# Format numbers.\n",
    "filtered['lobbyists_formatted'] = filtered['lobbyists']\n",
    "filtered['lobbyists_formatted'] = filtered['lobbyists_formatted'].astype(float).apply(lambda x: \"{:,.0f}\".format(x)) \n",
    "\n",
    "# Convert ints to strings.\n",
    "for col in filtered.columns:\n",
    "    filtered[col] = filtered[col].astype(str)\n",
    "\n",
    "# TODO make a time series like https://github.com/plotly/dash-opioid-epidemic-demo/blob/master/app.py#L55\n",
    "# @See https://community.plot.ly/t/python-plotly-how-to-make-a-choropleth-map-with-a-slider-access-grid-data-issue/3218/8\n",
    "\n",
    "scl = [[0.0, 'rgb(242,240,247)'],[0.2, 'rgb(218,218,235)'],[0.4, 'rgb(188,189,220)'],\\\n",
    "        [0.6, 'rgb(158,154,200)'],[0.8, 'rgb(117,107,177)'],[1.0, 'rgb(84,39,143)']]\n",
    "\n",
    "data = [ dict(\n",
    "        type='choropleth',\n",
    "        colorscale = scl,\n",
    "        autocolorscale = False,\n",
    "        locations = filtered['abbr'],\n",
    "        z = filtered['lobbyists'].astype(float),\n",
    "        locationmode = 'USA-states',\n",
    "        text = filtered['state'] + ': ' + filtered['lobbyists_formatted'] + ' total lobbyists',\n",
    "        hoverinfo = 'text',\n",
    "        marker = dict(\n",
    "            line = dict (\n",
    "                color = 'rgb(255,255,255)',\n",
    "                width = 2\n",
    "            ) ),\n",
    "        colorbar = dict(\n",
    "            title = \"Total State Lobbyists\")\n",
    "        ) ]\n",
    "\n",
    "layout = dict(\n",
    "        title = 'Lobbyists Per State 1986-2013',\n",
    "        geo = dict(\n",
    "            scope='usa',\n",
    "            projection=dict( type='albers usa' ),\n",
    "            showlakes = True,\n",
    "            lakecolor = 'rgb(255, 255, 255)'),\n",
    "             )\n",
    "\n",
    "fig = dict(data=data, layout=layout)\n",
    "plotly.offline.plot(fig, filename='lobbyists-cloropleth-map.html')"
   ]
  },
  {
   "cell_type": "code",
   "execution_count": null,
   "metadata": {},
   "outputs": [],
   "source": []
  }
 ],
 "metadata": {
  "kernelspec": {
   "display_name": "Python 3",
   "language": "python",
   "name": "python3"
  },
  "language_info": {
   "codemirror_mode": {
    "name": "ipython",
    "version": 3
   },
   "file_extension": ".py",
   "mimetype": "text/x-python",
   "name": "python",
   "nbconvert_exporter": "python",
   "pygments_lexer": "ipython3",
   "version": "3.6.0"
  }
 },
 "nbformat": 4,
 "nbformat_minor": 2
}
